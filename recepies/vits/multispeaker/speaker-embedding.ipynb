{
 "cells": [
  {
   "cell_type": "code",
   "execution_count": null,
   "id": "be2196ba",
   "metadata": {
    "_cell_guid": "b1076dfc-b9ad-4769-8c92-a6c4dae69d19",
    "_uuid": "8f2839f25d086af736a60e9eeb907d3b93b6e0e5",
    "execution": {
     "iopub.execute_input": "2023-03-16T08:05:52.100797Z",
     "iopub.status.busy": "2023-03-16T08:05:52.100201Z",
     "iopub.status.idle": "2023-03-16T08:08:03.444304Z",
     "shell.execute_reply": "2023-03-16T08:08:03.443073Z"
    },
    "papermill": {
     "duration": 131.351455,
     "end_time": "2023-03-16T08:08:03.447133",
     "exception": false,
     "start_time": "2023-03-16T08:05:52.095678",
     "status": "completed"
    },
    "tags": []
   },
   "outputs": [],
   "source": [
    "!pip install llvmlite --ignore-installed -q \n",
    "!pip install \"git+https://github.com/karim23657/TTS.git\" -q \n",
    "!sudo apt-get -y install espeak-ng -qq\n",
    "!pip install numba==0.53 -q "
   ]
  },
  {
   "cell_type": "code",
   "execution_count": 2,
   "id": "bb491dc0",
   "metadata": {
    "execution": {
     "iopub.execute_input": "2023-03-16T08:08:03.455344Z",
     "iopub.status.busy": "2023-03-16T08:08:03.455020Z",
     "iopub.status.idle": "2023-03-16T08:08:06.960327Z",
     "shell.execute_reply": "2023-03-16T08:08:06.959277Z"
    },
    "papermill": {
     "duration": 3.512592,
     "end_time": "2023-03-16T08:08:06.963205",
     "exception": false,
     "start_time": "2023-03-16T08:08:03.450613",
     "status": "completed"
    },
    "tags": []
   },
   "outputs": [],
   "source": [
    "import os\n",
    "from TTS.bin.compute_embeddings import compute_embeddings\n",
    "from TTS.config.shared_configs import BaseDatasetConfig"
   ]
  },
  {
   "cell_type": "code",
   "execution_count": 3,
   "id": "3972274e",
   "metadata": {
    "execution": {
     "iopub.execute_input": "2023-03-16T08:08:06.971270Z",
     "iopub.status.busy": "2023-03-16T08:08:06.970695Z",
     "iopub.status.idle": "2023-03-16T08:08:06.976018Z",
     "shell.execute_reply": "2023-03-16T08:08:06.974984Z"
    },
    "papermill": {
     "duration": 0.012089,
     "end_time": "2023-03-16T08:08:06.978637",
     "exception": false,
     "start_time": "2023-03-16T08:08:06.966548",
     "status": "completed"
    },
    "tags": []
   },
   "outputs": [],
   "source": [
    "dataset_config = BaseDatasetConfig(\n",
    "    formatter=\"mozilla_with_speaker\",\n",
    "    dataset_name=\"multi_persian\",\n",
    "    meta_file_train=\"metadata.csv\",\n",
    "    language=\"fa\",\n",
    "    phonemizer=\"espeak\",\n",
    "    path=\"/kaggle/input\",\n",
    "\n",
    ")\n"
   ]
  },
  {
   "cell_type": "code",
   "execution_count": 4,
   "id": "ee6470d7",
   "metadata": {
    "execution": {
     "iopub.execute_input": "2023-03-16T08:08:06.986123Z",
     "iopub.status.busy": "2023-03-16T08:08:06.985410Z",
     "iopub.status.idle": "2023-03-16T09:50:20.695357Z",
     "shell.execute_reply": "2023-03-16T09:50:20.694183Z"
    },
    "papermill": {
     "duration": 6133.716055,
     "end_time": "2023-03-16T09:50:20.697647",
     "exception": false,
     "start_time": "2023-03-16T08:08:06.981592",
     "status": "completed"
    },
    "tags": []
   },
   "outputs": [
    {
     "name": "stdout",
     "output_type": "stream",
     "text": [
      ">>> Computing the speaker embeddings for the multi_persian dataset\n",
      "dilara\n",
      "changiz\n",
      "farid\n",
      " | > Found 30861 files in /kaggle/input\n",
      " > Model fully restored. \n",
      " > Setting up Audio Processor...\n",
      " | > sample_rate:16000\n",
      " | > resample:False\n",
      " | > num_mels:64\n",
      " | > log_func:np.log10\n",
      " | > min_level_db:-100\n",
      " | > frame_shift_ms:None\n",
      " | > frame_length_ms:None\n",
      " | > ref_level_db:20\n",
      " | > fft_size:512\n",
      " | > power:1.5\n",
      " | > preemphasis:0.97\n",
      " | > griffin_lim_iters:60\n",
      " | > signal_norm:False\n",
      " | > symmetric_norm:False\n",
      " | > mel_fmin:0\n",
      " | > mel_fmax:8000.0\n",
      " | > pitch_fmin:1.0\n",
      " | > pitch_fmax:640.0\n",
      " | > spec_gain:20.0\n",
      " | > stft_pad_mode:reflect\n",
      " | > max_norm:4.0\n",
      " | > clip_norm:False\n",
      " | > do_trim_silence:False\n",
      " | > trim_db:60\n",
      " | > do_sound_norm:False\n",
      " | > do_amp_to_db_linear:True\n",
      " | > do_amp_to_db_mel:True\n",
      " | > do_rms_norm:True\n",
      " | > db_level:-27.0\n",
      " | > stats_path:None\n",
      " | > base:10\n",
      " | > hop_length:160\n",
      " | > win_length:400\n"
     ]
    },
    {
     "name": "stderr",
     "output_type": "stream",
     "text": [
      "100%|██████████| 30861/30861 [1:42:02<00:00,  5.04it/s]\n"
     ]
    },
    {
     "name": "stdout",
     "output_type": "stream",
     "text": [
      "Speaker embeddings saved at: /kaggle/working/speakers.pth\n"
     ]
    }
   ],
   "source": [
    "\n",
    "\n",
    "### Extract speaker embeddings\n",
    "SPEAKER_ENCODER_CHECKPOINT_PATH = (\n",
    "    \"https://github.com/coqui-ai/TTS/releases/download/speaker_encoder_model/model_se.pth.tar\"\n",
    ")\n",
    "SPEAKER_ENCODER_CONFIG_PATH = \"https://github.com/coqui-ai/TTS/releases/download/speaker_encoder_model/config_se.json\"\n",
    "\n",
    "\n",
    "# Add here all datasets configs, in our case we just want to train with the VCTK dataset then we need to add just VCTK. Note: If you want to added new datasets just added they here and it will automatically compute the speaker embeddings (d-vectors) for this new dataset :)\n",
    "DATASETS_CONFIG_LIST = [dataset_config]\n",
    "SAMPLE_RATE = 22050\n",
    "\n",
    "D_VECTOR_FILES = []  # List of speaker embeddings/d-vectors to be used during the training\n",
    "\n",
    "# Iterates all the dataset configs checking if the speakers embeddings are already computated, if not compute it\n",
    "for dataset_conf in DATASETS_CONFIG_LIST:\n",
    "    # Check if the embeddings weren't already computed, if not compute it\n",
    "    embeddings_file = os.path.join(\"/kaggle/working/\", \"speakers.pth\")\n",
    "    if not os.path.isfile(embeddings_file):\n",
    "        print(f\">>> Computing the speaker embeddings for the {dataset_conf.dataset_name} dataset\")\n",
    "        compute_embeddings(\n",
    "            SPEAKER_ENCODER_CHECKPOINT_PATH,\n",
    "            SPEAKER_ENCODER_CONFIG_PATH,\n",
    "            embeddings_file,\n",
    "            old_spakers_file=None,\n",
    "            config_dataset_path=None,\n",
    "            formatter_name=dataset_conf.formatter,\n",
    "            dataset_name=dataset_conf.dataset_name,\n",
    "            dataset_path=dataset_conf.path,\n",
    "            meta_file_train=dataset_conf.meta_file_train,\n",
    "            meta_file_val=dataset_conf.meta_file_val,\n",
    "            disable_cuda=False,\n",
    "            no_eval=False,\n",
    "        )\n",
    "    D_VECTOR_FILES.append(embeddings_file)\n"
   ]
  },
  {
   "cell_type": "code",
   "execution_count": 5,
   "id": "8c06e14e",
   "metadata": {
    "execution": {
     "iopub.execute_input": "2023-03-16T09:50:24.395229Z",
     "iopub.status.busy": "2023-03-16T09:50:24.394641Z",
     "iopub.status.idle": "2023-03-16T09:50:24.400345Z",
     "shell.execute_reply": "2023-03-16T09:50:24.399393Z"
    },
    "papermill": {
     "duration": 1.864518,
     "end_time": "2023-03-16T09:50:24.402795",
     "exception": false,
     "start_time": "2023-03-16T09:50:22.538277",
     "status": "completed"
    },
    "tags": []
   },
   "outputs": [
    {
     "name": "stdout",
     "output_type": "stream",
     "text": [
      "['/kaggle/working/speakers.pth']\n"
     ]
    }
   ],
   "source": [
    "print(D_VECTOR_FILES)"
   ]
  }
 ],
 "metadata": {
  "kernelspec": {
   "display_name": "Python 3",
   "language": "python",
   "name": "python3"
  },
  "language_info": {
   "codemirror_mode": {
    "name": "ipython",
    "version": 3
   },
   "file_extension": ".py",
   "mimetype": "text/x-python",
   "name": "python",
   "nbconvert_exporter": "python",
   "pygments_lexer": "ipython3",
   "version": "3.7.12"
  },
  "papermill": {
   "default_parameters": {},
   "duration": 6283.791116,
   "end_time": "2023-03-16T09:50:27.922359",
   "environment_variables": {},
   "exception": null,
   "input_path": "__notebook__.ipynb",
   "output_path": "__notebook__.ipynb",
   "parameters": {},
   "start_time": "2023-03-16T08:05:44.131243",
   "version": "2.3.4"
  }
 },
 "nbformat": 4,
 "nbformat_minor": 5
}
