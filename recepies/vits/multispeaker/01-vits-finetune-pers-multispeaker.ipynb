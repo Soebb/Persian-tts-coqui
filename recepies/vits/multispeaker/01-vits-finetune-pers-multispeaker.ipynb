{
 "cells": [
  {
   "cell_type": "code",
   "execution_count": null,
   "id": "6d67935a",
   "metadata": {
    "execution": {
     "iopub.execute_input": "2023-03-26T08:37:06.643373Z",
     "iopub.status.busy": "2023-03-26T08:37:06.642158Z",
     "iopub.status.idle": "2023-03-26T08:39:24.817069Z",
     "shell.execute_reply": "2023-03-26T08:39:24.815854Z"
    },
    "papermill": {
     "duration": 138.183134,
     "end_time": "2023-03-26T08:39:24.819731",
     "exception": false,
     "start_time": "2023-03-26T08:37:06.636597",
     "status": "completed"
    },
    "tags": []
   },
   "outputs": [],
   "source": [
    "!pip install llvmlite --ignore-installed -q \n",
    "!pip install \"git+https://github.com/karim23657/TTS.git\" -q \n",
    "# !pip install TTS -q\n",
    "!sudo apt-get -y install espeak-ng -qq\n",
    "!pip install numba==0.53 -q \n",
    "!pip install requests aiohttp -q"
   ]
  },
  {
   "cell_type": "code",
   "execution_count": 2,
   "id": "f0c8e91a",
   "metadata": {
    "execution": {
     "iopub.execute_input": "2023-03-26T08:39:24.829391Z",
     "iopub.status.busy": "2023-03-26T08:39:24.828395Z",
     "iopub.status.idle": "2023-03-26T08:39:26.804984Z",
     "shell.execute_reply": "2023-03-26T08:39:26.803537Z"
    },
    "papermill": {
     "duration": 1.984716,
     "end_time": "2023-03-26T08:39:26.808287",
     "exception": false,
     "start_time": "2023-03-26T08:39:24.823571",
     "status": "completed"
    },
    "tags": []
   },
   "outputs": [],
   "source": [
    "!mkdir train_output\n",
    "!mkdir train_output/kagg"
   ]
  },
  {
   "cell_type": "code",
   "execution_count": null,
   "id": "a2bab02d",
   "metadata": {
    "execution": {
     "iopub.execute_input": "2023-03-26T08:39:26.820396Z",
     "iopub.status.busy": "2023-03-26T08:39:26.820029Z",
     "iopub.status.idle": "2023-03-26T08:40:04.853100Z",
     "shell.execute_reply": "2023-03-26T08:40:04.851968Z"
    },
    "papermill": {
     "duration": 38.041327,
     "end_time": "2023-03-26T08:40:04.855285",
     "exception": false,
     "start_time": "2023-03-26T08:39:26.813958",
     "status": "completed"
    },
    "tags": []
   },
   "outputs": [],
   "source": [
    "!wget \"https://huggingface.co/Kamtera/persian-tts-multispeaker-vits/resolve/main/train_vits-2.py\" -O train_output/train_vits.py\n",
    "!wget \"https://huggingface.co/Kamtera/persian-tts-multispeaker-vits/resolve/main/config-1.json\" -O train_output/kagg/config.json\n",
    "!wget \"https://huggingface.co/Kamtera/persian-tts-multispeaker-vits/resolve/main/speakers.pth\"\n",
    "# -O train_output/kagg/speakers.pth\n",
    "!cp speakers.pth train_output/kagg\n",
    "!wget \"https://huggingface.co/Kamtera/persian-tts-multispeaker-vits/resolve/main/checkpoint_136000.pth\" -O train_output/kagg/checkpoint_136000.pth\n",
    "!wget \"https://huggingface.co/Kamtera/persian-tts-multispeaker-vits/resolve/main/phoneme_cache.zip\""
   ]
  },
  {
   "cell_type": "code",
   "execution_count": 4,
   "id": "a602b592",
   "metadata": {
    "execution": {
     "iopub.execute_input": "2023-03-26T08:40:04.880839Z",
     "iopub.status.busy": "2023-03-26T08:40:04.880489Z",
     "iopub.status.idle": "2023-03-26T08:40:06.990223Z",
     "shell.execute_reply": "2023-03-26T08:40:06.988866Z"
    },
    "papermill": {
     "duration": 2.125425,
     "end_time": "2023-03-26T08:40:06.993008",
     "exception": false,
     "start_time": "2023-03-26T08:40:04.867583",
     "status": "completed"
    },
    "tags": []
   },
   "outputs": [],
   "source": [
    "!unzip -qq phoneme_cache.zip"
   ]
  },
  {
   "cell_type": "code",
   "execution_count": 6,
   "id": "13294b68",
   "metadata": {
    "execution": {
     "iopub.execute_input": "2023-03-26T08:40:09.028974Z",
     "iopub.status.busy": "2023-03-26T08:40:09.027542Z",
     "iopub.status.idle": "2023-03-26T08:40:09.967477Z",
     "shell.execute_reply": "2023-03-26T08:40:09.966275Z"
    },
    "papermill": {
     "duration": 0.95644,
     "end_time": "2023-03-26T08:40:09.969985",
     "exception": false,
     "start_time": "2023-03-26T08:40:09.013545",
     "status": "completed"
    },
    "tags": []
   },
   "outputs": [
    {
     "name": "stdout",
     "output_type": "stream",
     "text": [
      "\u001b[01;34mtrain_output/kagg\u001b[00m\r\n",
      "├── checkpoint_136000.pth\r\n",
      "├── config.json\r\n",
      "└── speakers.pth\r\n",
      "\r\n",
      "0 directories, 3 files\r\n"
     ]
    }
   ],
   "source": [
    "!tree train_output/kagg"
   ]
  },
  {
   "cell_type": "code",
   "execution_count": null,
   "id": "df1150ff",
   "metadata": {
    "execution": {
     "iopub.execute_input": "2023-03-26T08:40:09.995832Z",
     "iopub.status.busy": "2023-03-26T08:40:09.995485Z"
    },
    "papermill": {
     "duration": null,
     "end_time": null,
     "exception": false,
     "start_time": "2023-03-26T08:40:09.982176",
     "status": "running"
    },
    "tags": []
   },
   "outputs": [],
   "source": [
    "# !PYTORCH_CUDA_ALLOC_CONF=\"max_split_size_mb:512\" python \"train_output/train_vits.py\" --restore_path train_output/kagg/checkpoint_48000.pth\n",
    "!PYTORCH_CUDA_ALLOC_CONF=\"max_split_size_mb:512\" python \"train_output/train_vits.py\" --continue_path 'train_output/kagg'"
   ]
  },
  {
   "cell_type": "code",
   "execution_count": null,
   "id": "12c35ed9",
   "metadata": {
    "papermill": {
     "duration": null,
     "end_time": null,
     "exception": null,
     "start_time": null,
     "status": "pending"
    },
    "tags": []
   },
   "outputs": [],
   "source": []
  }
 ],
 "metadata": {
  "kernelspec": {
   "display_name": "Python 3",
   "language": "python",
   "name": "python3"
  },
  "language_info": {
   "codemirror_mode": {
    "name": "ipython",
    "version": 3
   },
   "file_extension": ".py",
   "mimetype": "text/x-python",
   "name": "python",
   "nbconvert_exporter": "python",
   "pygments_lexer": "ipython3",
   "version": "3.6.4"
  },
  "papermill": {
   "default_parameters": {},
   "duration": null,
   "end_time": null,
   "environment_variables": {},
   "exception": null,
   "input_path": "__notebook__.ipynb",
   "output_path": "__notebook__.ipynb",
   "parameters": {},
   "start_time": "2023-03-26T08:36:58.822815",
   "version": "2.3.4"
  }
 },
 "nbformat": 4,
 "nbformat_minor": 5
}
